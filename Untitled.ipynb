{
 "cells": [
  {
   "cell_type": "code",
   "execution_count": 5,
   "id": "b9f25e23-7b49-4f68-bc01-d4bd86dec577",
   "metadata": {},
   "outputs": [],
   "source": [
    "import pandas as pd\n",
    "import numpy as np\n",
    "import matplotlib.pyplot as plt\n",
    "import seaborn as sns\n"
   ]
  },
  {
   "cell_type": "code",
   "execution_count": 6,
   "id": "b016839d-81c2-46db-98bd-ef20a2461501",
   "metadata": {},
   "outputs": [],
   "source": [
    "app=pd.read_csv(\"C:/Users/itsme/OneDrive/Desktop/Data Set/application_data.csv\")\n",
    "# prev_app=pd.read_csv(\"previous_application.csv\")"
   ]
  },
  {
   "cell_type": "code",
   "execution_count": 7,
   "id": "6a0ab8ee-3fec-4ce2-8407-9076408bc80e",
   "metadata": {},
   "outputs": [
    {
     "data": {
      "text/plain": [
       "37516342"
      ]
     },
     "execution_count": 7,
     "metadata": {},
     "output_type": "execute_result"
    }
   ],
   "source": [
    "app.size"
   ]
  },
  {
   "cell_type": "code",
   "execution_count": 8,
   "id": "79587ef2-74c3-4474-aad2-fbcc9df9f6ed",
   "metadata": {},
   "outputs": [
    {
     "data": {
      "text/plain": [
       "37516342"
      ]
     },
     "execution_count": 8,
     "metadata": {},
     "output_type": "execute_result"
    }
   ],
   "source": [
    "app.size"
   ]
  },
  {
   "cell_type": "code",
   "execution_count": null,
   "id": "2d3ad324-9e7e-411f-b8c9-7a4742e0cdb2",
   "metadata": {},
   "outputs": [],
   "source": []
  }
 ],
 "metadata": {
  "kernelspec": {
   "display_name": "Python 3 (ipykernel)",
   "language": "python",
   "name": "python3"
  },
  "language_info": {
   "codemirror_mode": {
    "name": "ipython",
    "version": 3
   },
   "file_extension": ".py",
   "mimetype": "text/x-python",
   "name": "python",
   "nbconvert_exporter": "python",
   "pygments_lexer": "ipython3",
   "version": "3.11.5"
  }
 },
 "nbformat": 4,
 "nbformat_minor": 5
}
